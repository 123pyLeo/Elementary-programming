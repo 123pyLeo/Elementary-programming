{
 "cells": [
  {
   "cell_type": "markdown",
   "id": "eb1c5f02",
   "metadata": {},
   "source": [
    "1.编写一个程序，返回整数列表中的最后一个元素。\n",
    "·定义函数 last_element()的函数，参数为列表 my_list。\n",
    "·在函数中，返回列表的最后一一个元素。"
   ]
  },
  {
   "cell_type": "code",
   "execution_count": 1,
   "id": "b18fed99",
   "metadata": {},
   "outputs": [
    {
     "name": "stdout",
     "output_type": "stream",
     "text": [
      "1 2 3\n",
      "3\n"
     ]
    }
   ],
   "source": [
    "def last_element(my_list):\n",
    "    return my_list[-1]\n",
    "# 获取整数输入，并将其转换为列表\n",
    "input_list = list(map(int, input().split()))\n",
    "# 调用函数\n",
    "print(last_element(input_list))"
   ]
  },
  {
   "cell_type": "markdown",
   "id": "853c544a",
   "metadata": {},
   "source": [
    "2.编写一个程序来求一个给定数字的所有因数。\n",
    "• 定义函数 find_all_factors()，参数为 num。\n",
    "• 在函数内部，返回一个列表，列表中的数字是输入数字 num 的所以因\n",
    "数。\n",
    "• 如果输入数字小于 1，则返回一个空列表。"
   ]
  },
  {
   "cell_type": "code",
   "execution_count": 3,
   "id": "9644019a",
   "metadata": {},
   "outputs": [
    {
     "name": "stdout",
     "output_type": "stream",
     "text": [
      "8\n",
      "[1, 2, 4, 8]\n"
     ]
    }
   ],
   "source": [
    "def find_all_factors(num):\n",
    "    if num < 1:\n",
    "        return [] \n",
    "    factors = []\n",
    "    for i in range(1, num + 1):\n",
    "        if num % i == 0:\n",
    "            factors.append(i)\n",
    "    return factors\n",
    "# 输入一个数字\n",
    "num = int(input())\n",
    "# 调用函数\n",
    "print(find_all_factors(num))"
   ]
  },
  {
   "cell_type": "markdown",
   "id": "d3040c76",
   "metadata": {},
   "source": [
    "3.编写一个程序，查找给定列表中给定元素的所有索引。\n",
    "• 定义函数 find_indices()，它接受两个参数，一个 my_list 列表和一个\n",
    "element 的变量。\n",
    "• 该函数应返回 my_list 中出现 element 的所有索引的列表。"
   ]
  },
  {
   "cell_type": "code",
   "execution_count": 5,
   "id": "06da5673",
   "metadata": {},
   "outputs": [
    {
     "name": "stdout",
     "output_type": "stream",
     "text": [
      "1 2 3 4 2 2 5\n",
      "2\n",
      "[1, 4, 5]\n"
     ]
    }
   ],
   "source": [
    "def find_indices(my_list, element):\n",
    "    indices = []\n",
    "    index = -1\n",
    "    while True:\n",
    "        try:\n",
    "            index = my_list.index(element, index + 1)\n",
    "            indices.append(index)\n",
    "        except ValueError:\n",
    "            break   \n",
    "    return indices\n",
    "my_list = list(map(int, input().split()))\n",
    "element = int(input())\n",
    "result = find_indices(my_list, element)\n",
    "print(result)"
   ]
  },
  {
   "cell_type": "markdown",
   "id": "c5cb7f01",
   "metadata": {},
   "source": [
    "4、编写一个程序，将两个列表合并，并按照第一个列表的顺序对合并后的列表\n",
    "进行排序。\n",
    "• 定义一个名为 merge_and_sort()的函数，其中有两个列表参数，\n",
    "first_list 和 second_list。\n",
    "• 在函数内部，合并两个列表。\n",
    "• 检查第一个列表是升序还是降序排列。\n",
    "• 按照第一个列表的顺序对合并后的列表进行排序。\n",
    "• 返回排序后的列表。"
   ]
  },
  {
   "cell_type": "code",
   "execution_count": 8,
   "id": "3aadc1f8",
   "metadata": {},
   "outputs": [
    {
     "name": "stdout",
     "output_type": "stream",
     "text": [
      "1 2 3\n",
      "9 8 7\n",
      "[1, 2, 3, 7, 8, 9]\n"
     ]
    }
   ],
   "source": [
    "def merge_and_sort(first_list, second_list):\n",
    "    merged_list = first_list + second_list\n",
    "    return sorted(merged_list, reverse=(first_list[0] >= first_list[-1]))\n",
    "first_list = list(map(int, input().split()))\n",
    "second_list = list(map(int, input().split()))\n",
    "result = merge_and_sort(first_list, second_list)\n",
    "print(result)"
   ]
  },
  {
   "cell_type": "markdown",
   "id": "a588c29f",
   "metadata": {},
   "source": [
    "5、作为值的嵌套字典指的是一个字典作为另一个字典中键的值存储。例如：\n",
    "employee = {\n",
    " \"name\": \"John Doe\",\n",
    " \"contact\": {\n",
    " \"email\": \"johndoe@example.com\",\n",
    " }\n",
    "}\n",
    "在这里，字典{\"email\": \"johndoe@example.com\",}是 employee 字典中\n",
    "\"contact\"键的值。\n",
    "编写一个程序，将整数列表的每个元素与字典的每个项映射，形成一个嵌套字\n",
    "典。\n",
    "• 定义函数 map_list_dict()，它有两个参数 input_dict 和 input_list。\n",
    "• 在函数内部，将列表的每个元素映射到字典的相应键值对\n",
    "• 形成一个新的字典，列表元素作为键，嵌套字典（包含输入字典的单个\n",
    "键值对）作为值并打印。"
   ]
  },
  {
   "cell_type": "code",
   "execution_count": 16,
   "id": "138834bb",
   "metadata": {},
   "outputs": [
    {
     "name": "stdout",
     "output_type": "stream",
     "text": [
      "{\"a\":1,\"b\":2,\"c\":3}\n",
      "6 7 8\n",
      "{6: {'a': 1}, 7: {'b': 2}, 8: {'c': 3}}\n"
     ]
    }
   ],
   "source": [
    "def map_list_dict(input_dict, input_list):\n",
    "    result_dict = {}\n",
    "    for i in range(len(input_list)):\n",
    "        result_dict[input_list[i]] = {list(input_dict.keys())[i]: input_dict[list(input_dict.keys())[i]]}\n",
    "    return result_dict\n",
    "input_dict = eval(input()) \n",
    "input_list = list(map(int, input().split()))\n",
    "result = map_list_dict(input_dict, input_list)  \n",
    "print(result)  "
   ]
  },
  {
   "cell_type": "markdown",
   "id": "f2bd56e0",
   "metadata": {},
   "source": [
    "6、编写一个程序，使用提供的键列表从字典中删除指定的键集合。\n",
    "• 定义函数 remove_keys()，有两个参数：字典 dict_input 和键列表\n",
    "key_list。\n",
    "• 在函数中，从字典中删除 key_list 中存在的所有键。\n",
    "• 返回更新后的字典。"
   ]
  },
  {
   "cell_type": "code",
   "execution_count": 17,
   "id": "84294e57",
   "metadata": {},
   "outputs": [
    {
     "name": "stdout",
     "output_type": "stream",
     "text": [
      "{\"fruit\": \"Apple\", \"color\": \"Red\", \"price\": 10}\n",
      "color price\n",
      "{'fruit': 'Apple'}\n"
     ]
    }
   ],
   "source": [
    "def remove_keys(dict_input, key_list):\n",
    "    return {key: value for key, value in dict_input.items() if key not in key_list}\n",
    "dict_input = eval(input())\n",
    "key_list = input().split()\n",
    "result = remove_keys(dict_input, key_list)\n",
    "print(result)"
   ]
  }
 ],
 "metadata": {
  "kernelspec": {
   "display_name": "Python 3 (ipykernel)",
   "language": "python",
   "name": "python3"
  },
  "language_info": {
   "codemirror_mode": {
    "name": "ipython",
    "version": 3
   },
   "file_extension": ".py",
   "mimetype": "text/x-python",
   "name": "python",
   "nbconvert_exporter": "python",
   "pygments_lexer": "ipython3",
   "version": "3.10.9"
  }
 },
 "nbformat": 4,
 "nbformat_minor": 5
}
