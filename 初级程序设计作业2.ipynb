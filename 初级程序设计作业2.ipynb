{
 "cells": [
  {
   "cell_type": "markdown",
   "id": "2c63c18a",
   "metadata": {},
   "source": [
    "一、编写一个程序，创建一个给定范围内的整数列表。\n",
    "• 定义函数 list_between()，有两个参数 start 和 end。\n",
    "• 在函数内，创建一个介于 start（不包括）和 end（不包括）之间的所有\n",
    "整数的列表，并返回该列表。"
   ]
  },
  {
   "cell_type": "code",
   "execution_count": 45,
   "id": "13b5901b",
   "metadata": {},
   "outputs": [
    {
     "name": "stdout",
     "output_type": "stream",
     "text": [
      "-1\n",
      "1\n",
      "[0]\n"
     ]
    }
   ],
   "source": [
    "def list_between(start, end):\n",
    "    list = [i for i in range(start + 1, end)]\n",
    "    return list\n",
    "start = int(input())\n",
    "end = int(input())\n",
    "result = list_between(start, end)\n",
    "print(result)"
   ]
  },
  {
   "cell_type": "markdown",
   "id": "4884ab0e",
   "metadata": {},
   "source": [
    "二、回文数是指从前往后读和从后往前读都是一样的数字，比如 121。 最近的\n",
    "回文数指的是离给定数字最近的回文数，比如给定数字 125，最近的回文数是\n",
    "121。\n",
    "编写一个程序，查找离给定整数最近的回文数。\n",
    "• 定义函数 find_closest_palindrome()，参数为 num。\n",
    "• 在函数内部，返回最近的回文数。如果有两个回文数的绝对距离相同，\n",
    "返回较小的数。\n",
    "• 如果给定数字本身就是回文数，则返回该数字。"
   ]
  },
  {
   "cell_type": "code",
   "execution_count": 31,
   "id": "bebe29d7",
   "metadata": {},
   "outputs": [
    {
     "name": "stdout",
     "output_type": "stream",
     "text": [
      "120\n",
      "121\n"
     ]
    }
   ],
   "source": [
    "def find_closest_palindrome(num):\n",
    "    num1 = num - 1\n",
    "    num2 = num + 1    \n",
    "    while True:\n",
    "        if str(num1) == str(num1)[::-1]:\n",
    "            return num1\n",
    "        if str(num2) == str(num2)[::-1]:\n",
    "            return num2        \n",
    "        num1 = num1 - 1\n",
    "        num2 = num2 + 1\n",
    "num = int(input())\n",
    "result = find_closest_palindrome(num)\n",
    "print(result)"
   ]
  },
  {
   "cell_type": "code",
   "execution_count": 28,
   "id": "7b7397c0",
   "metadata": {},
   "outputs": [
    {
     "name": "stdout",
     "output_type": "stream",
     "text": [
      "120\n",
      "121\n"
     ]
    }
   ],
   "source": [
    "def find_closest_palindrome(num):\n",
    "    def is_palindrome(n):\n",
    "        return str(n) == str(n)[::-1]\n",
    "    lower = num - 1\n",
    "    while not is_palindrome(lower):\n",
    "        lower = lower - 1\n",
    "    higher = num + 1\n",
    "    while not is_palindrome(higher):\n",
    "        higher = higher + 1\n",
    "    if abs(num - lower) <= abs(num - higher):\n",
    "        return lower\n",
    "    else:\n",
    "        return higher\n",
    "num = int(input())\n",
    "result = find_closest_palindrome(num)\n",
    "print(result)"
   ]
  },
  {
   "cell_type": "markdown",
   "id": "22db7679",
   "metadata": {},
   "source": [
    "三、\n",
    "编写一个程序，检查句子中的任何单词是否包含重复字母。\n",
    "• 定义函数 check_duplicate_letters()，参数为 phrase(字符串)。\n",
    "• 在函数内，如果字符串 phrase 的任何单词包含重复字母，则返回\n",
    "True，否则返回 False。"
   ]
  },
  {
   "cell_type": "code",
   "execution_count": 7,
   "id": "1287cb4d",
   "metadata": {
    "scrolled": true
   },
   "outputs": [
    {
     "name": "stdout",
     "output_type": "stream",
     "text": [
      "Taylor and harry are friends\n",
      "True\n"
     ]
    }
   ],
   "source": [
    "def check_duplicate_letters(phrase):\n",
    "    words = phrase.split() \n",
    "    for word in words:\n",
    "        single_letters = set()  \n",
    "        for letter in word:\n",
    "            if letter in single_letters:\n",
    "                return True  \n",
    "            single_letters.add(letter)  \n",
    "    return False  \n",
    "phrase = input()\n",
    "result = check_duplicate_letters(phrase)\n",
    "print(result)"
   ]
  },
  {
   "cell_type": "code",
   "execution_count": 8,
   "id": "677192c4",
   "metadata": {},
   "outputs": [
    {
     "name": "stdout",
     "output_type": "stream",
     "text": [
      "who like cry\n",
      "False\n"
     ]
    }
   ],
   "source": [
    "def check_duplicate_letters(phrase):\n",
    "    words = phrase.split() \n",
    "    for word in words:\n",
    "        single_letters = set()  \n",
    "        for letter in word:\n",
    "            if letter in single_letters:\n",
    "                return True  \n",
    "            single_letters.add(letter)  \n",
    "    return False  \n",
    "phrase = input()\n",
    "result = check_duplicate_letters(phrase)\n",
    "print(result)"
   ]
  },
  {
   "cell_type": "markdown",
   "id": "6c372353",
   "metadata": {},
   "source": [
    "四、编写一个程序来统计缺失的数字并返回它们的总和。 缺失的数字是指给定\n",
    "列表中两个极端（最大和最小数字）之间没有出现的数字。\n",
    "例如，在列表[2, 5, 3, 7]中，两个极端（即 2 和 7）之间缺失的数字是 4 和\n",
    "6。\n",
    "• 定义函数 missing_numbers_info()的函数，参数为 num_list。\n",
    "• 在函数中，返回一个元组，元组中有两个元素：缺失数字的数量和它们\n",
    "的总和。\n",
    "• 如果没有缺失的数字，则返回**(0, 0)**。"
   ]
  },
  {
   "cell_type": "code",
   "execution_count": 19,
   "id": "9c5b5fab",
   "metadata": {},
   "outputs": [
    {
     "name": "stdout",
     "output_type": "stream",
     "text": [
      "5 2 7 3\n",
      "(2, 10)\n"
     ]
    }
   ],
   "source": [
    "def missing_numbers_info(num_list):\n",
    "    if not num_list:\n",
    "        return (0, 0)    \n",
    "    min_num = min(num_list)\n",
    "    max_num = max(num_list)    \n",
    "    full_range = set(range(min_num + 1, max_num))\n",
    "    num_set = set(num_list)    \n",
    "    missing_nums = full_range - num_set    \n",
    "    num_of_missing = len(missing_nums)\n",
    "    sum_of_missing = sum(missing_nums)    \n",
    "    return (num_of_missing, sum_of_missing)\n",
    "num_list = list(map(int, input().split()))\n",
    "result = missing_numbers_info(num_list)\n",
    "print(result)"
   ]
  },
  {
   "cell_type": "code",
   "execution_count": 25,
   "id": "f8b9972e",
   "metadata": {},
   "outputs": [
    {
     "name": "stdout",
     "output_type": "stream",
     "text": [
      "5 2 7 3\n",
      "(2, 10)\n"
     ]
    }
   ],
   "source": [
    "def missing_numbers_info(num_list):\n",
    "    if not num_list:\n",
    "        return (0, 0)\n",
    "    min_num = min(num_list)\n",
    "    max_num = max(num_list)\n",
    "    missing_nums = [num for num in range(min_num + 1, max_num)if num not in num_list]    \n",
    "    num_of_missing = len(missing_nums)\n",
    "    sum_of_missing = sum(missing_nums)    \n",
    "    return (num_of_missing, sum_of_missing)\n",
    "num_list = list(map(int, input().split()))\n",
    "result = missing_numbers_info(num_list)\n",
    "print(result)"
   ]
  },
  {
   "cell_type": "markdown",
   "id": "a1c49d74",
   "metadata": {},
   "source": [
    "五、编写一个程序，从给定的数字中移除 K 位数字，以获得最小的可能数字。\n",
    "• 定义函数 smallest_number()，有两个参数：number 和 k。\n",
    "• 在函数内，以尽可能小的方式从给定的数字中移除 k 位数字，形成一个\n",
    "最小数字"
   ]
  },
  {
   "cell_type": "code",
   "execution_count": 41,
   "id": "bebef42f",
   "metadata": {},
   "outputs": [
    {
     "name": "stdout",
     "output_type": "stream",
     "text": [
      "7777\n",
      "2\n",
      "77\n"
     ]
    }
   ],
   "source": [
    "def smallest_number(number, k):\n",
    "    stack = []\n",
    "    for digit in number:  \n",
    "        while k > 0 and stack and stack[-1] > digit:\n",
    "            stack.pop()\n",
    "            k = k - 1\n",
    "        stack.append(digit)\n",
    "        ans = stack[:-k] if k > 0 else stack\n",
    "    # 注意前导 0 的情况\n",
    "    return ''.join(ans).lstrip('0') or '0'\n",
    "number = input()\n",
    "k = int(input())\n",
    "result = smallest_number(number, k)\n",
    "print(result)"
   ]
  }
 ],
 "metadata": {
  "kernelspec": {
   "display_name": "Python 3 (ipykernel)",
   "language": "python",
   "name": "python3"
  },
  "language_info": {
   "codemirror_mode": {
    "name": "ipython",
    "version": 3
   },
   "file_extension": ".py",
   "mimetype": "text/x-python",
   "name": "python",
   "nbconvert_exporter": "python",
   "pygments_lexer": "ipython3",
   "version": "3.10.9"
  }
 },
 "nbformat": 4,
 "nbformat_minor": 5
}
