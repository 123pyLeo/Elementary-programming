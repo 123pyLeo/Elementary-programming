{
 "cells": [
  {
   "cell_type": "markdown",
   "id": "2973c7c2",
   "metadata": {},
   "source": [
    "1、编写一个程序来计算一个数的幂。\n",
    "步骤 1：\n",
    "• 定义函数，参数为(底数)和(指数)。findPower()basepower\n",
    "• 计算的次方的值。basepower\n",
    "步骤 2：\n",
    "• 输入两个整数，分别作为底数和指数。\n",
    "• 调用函数来计算数字的幂，并将结果存储在变量中。\n",
    "findPower()result\n",
    "• 打印。result"
   ]
  },
  {
   "cell_type": "code",
   "execution_count": 6,
   "id": "b4c81c69",
   "metadata": {},
   "outputs": [
    {
     "name": "stdout",
     "output_type": "stream",
     "text": [
      "2\n",
      "3\n",
      "8\n"
     ]
    }
   ],
   "source": [
    "def findPower(base, power):\n",
    "    result = base ** power\n",
    "    return result\n",
    "base = int(input())\n",
    "power = int(input())\n",
    "result = findPower(base, power)\n",
    "print(result)"
   ]
  },
  {
   "cell_type": "markdown",
   "id": "70e315db",
   "metadata": {},
   "source": [
    "2、编写一个程序，判断两个给定的列表(数字)，合并后是否形成一个数字连续\n",
    "的序列。\n",
    "• 定义函数，该函数有两个参数：和。\n",
    "is_consecutive_sequence()list1list2\n",
    "• 在函数内部，如果合并的列表形成一个连续的序列，则返回，否\n",
    "则返回。TrueFalse\n",
    "假设：列表的元素都是不同的，但是两个列表可能包含相同的元素。"
   ]
  },
  {
   "cell_type": "code",
   "execution_count": 3,
   "id": "8c28caa6",
   "metadata": {},
   "outputs": [
    {
     "name": "stdout",
     "output_type": "stream",
     "text": [
      "1 3 5 6\n",
      "2 4 7 8\n",
      "True\n"
     ]
    }
   ],
   "source": [
    "def is_consecutive_sequence(list1, list2):\n",
    "    merged_list = list1 + list2\n",
    "    sorted_list = sorted(merged_list)    \n",
    "    for i in range(1, len(sorted_list)):\n",
    "        if sorted_list[i] - sorted_list[i-1] != 1:\n",
    "            return False    \n",
    "    return True\n",
    "list1 = [int(x) for x in input().split()]\n",
    "list2 = [int(x) for x in input().split()]\n",
    "if is_consecutive_sequence(list1, list2):\n",
    "    print(\"True\")\n",
    "else:\n",
    "    print(\"False\")"
   ]
  },
  {
   "cell_type": "code",
   "execution_count": null,
   "id": "dccb132c",
   "metadata": {},
   "outputs": [],
   "source": [
    "3、毕达哥拉斯定理：在直角三角形中，斜边的平方等于另外两边的平方和。\n",
    "直角三角形的面积为：\n",
    "面积 = 0.5 * 底边 * 高\n",
    "area = 0.5 * base * height\n",
    "编写一个程序，找出已知面积和高的直角三角形的另外两边(底边及斜边)。\n",
    "• 定义函数，有两个参数：(面积)和(高)。\n",
    "find_missing_sides()areaheight\n",
    "• 在函数内，计算另外两边(低边 及 斜边)，并将结果作为列表返\n",
    "回。使用来求出底边，使用毕达哥拉斯定理求出斜边。\n",
    "basehypotenusearea\n",
    "• 该函数应返回两个元素的列表。[base, hypotenuse]"
   ]
  },
  {
   "cell_type": "code",
   "execution_count": 4,
   "id": "28155d17",
   "metadata": {},
   "outputs": [
    {
     "name": "stdout",
     "output_type": "stream",
     "text": [
      "24\n",
      "6\n",
      "[8.0, 10.0]\n"
     ]
    }
   ],
   "source": [
    "import math\n",
    "def find_missing_sides(area, height):\n",
    "    base = (2 * area) / height\n",
    "    hypotenuse = math.sqrt(base**2 + height**2)\n",
    "    return [base, hypotenuse]\n",
    "area = float(input())\n",
    "height = float(input())\n",
    "sides = find_missing_sides(area, height)\n",
    "print(sides)"
   ]
  },
  {
   "cell_type": "markdown",
   "id": "81907d27",
   "metadata": {},
   "source": [
    "4、变位词是指由原字符串的字母重新排列组成的另一个字符串。\n",
    "编写一个程序，确定字符串的某个变位词是否可以成为另一个字符串的子串。\n",
    "• 定义函数，有两个参数和。is_anagram_present()string1string2\n",
    "• 在函数内，确定的某个变位词是否是的子串。如果是，返回，否\n",
    "则返回。string1string2TrueFalse"
   ]
  },
  {
   "cell_type": "code",
   "execution_count": 8,
   "id": "a7677521",
   "metadata": {},
   "outputs": [
    {
     "name": "stdout",
     "output_type": "stream",
     "text": [
      "hello\n",
      "ollehly\n",
      "True\n"
     ]
    }
   ],
   "source": [
    "def is_anagram_present(string1, string2):\n",
    "    def is_anagram(s1, s2):\n",
    "        return sorted(s1) == sorted(s2)\n",
    "    n1 = len(string1)\n",
    "    n2 = len(string2)\n",
    "    for i in range(n2 - n1 + 1):\n",
    "        if is_anagram(string1, string2[i:i+n1]):\n",
    "            return True\n",
    "    return False\n",
    "string1 = input()\n",
    "string2 = input()\n",
    "if is_anagram_present(string1, string2):\n",
    "    print(\"True\")\n",
    "else:\n",
    "    print(\"False\")"
   ]
  }
 ],
 "metadata": {
  "kernelspec": {
   "display_name": "Python 3 (ipykernel)",
   "language": "python",
   "name": "python3"
  },
  "language_info": {
   "codemirror_mode": {
    "name": "ipython",
    "version": 3
   },
   "file_extension": ".py",
   "mimetype": "text/x-python",
   "name": "python",
   "nbconvert_exporter": "python",
   "pygments_lexer": "ipython3",
   "version": "3.10.9"
  }
 },
 "nbformat": 4,
 "nbformat_minor": 5
}
